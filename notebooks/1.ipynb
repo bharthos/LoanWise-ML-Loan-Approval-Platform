{
 "cells": [
  {
   "cell_type": "code",
   "execution_count": 16,
   "metadata": {},
   "outputs": [
    {
     "data": {
      "text/plain": [
       "(0.7993008781652314,\n",
       " '              precision    recall  f1-score   support\\n\\n           0       0.96      0.80      0.87     10087\\n           1       0.39      0.81      0.53      1642\\n\\n    accuracy                           0.80     11729\\n   macro avg       0.68      0.81      0.70     11729\\nweighted avg       0.88      0.80      0.82     11729\\n')"
      ]
     },
     "execution_count": 16,
     "metadata": {},
     "output_type": "execute_result"
    }
   ],
   "source": [
    "# Import necessary libraries\n",
    "from sklearn.linear_model import LogisticRegression\n",
    "from sklearn.model_selection import train_test_split\n",
    "from sklearn.preprocessing import LabelEncoder, StandardScaler\n",
    "from sklearn.metrics import accuracy_score, classification_report\n",
    "import pandas as pd\n",
    "import joblib\n",
    "\n",
    "# Define dataset paths\n",
    "train_file_path = \"D:/AIT582/Final Project/Loan approval/train.csv\"\n",
    "\n",
    "# Load dataset\n",
    "data = pd.read_csv(train_file_path)\n",
    "\n",
    "# Drop the 'id' column and separate features and target\n",
    "X = data.drop(columns=['id', 'loan_status'])\n",
    "y = data['loan_status']\n",
    "\n",
    "# Encode categorical variables using LabelEncoder\n",
    "categorical_columns = ['person_home_ownership', 'loan_intent', 'loan_grade', 'cb_person_default_on_file']\n",
    "label_encoders = {}\n",
    "\n",
    "for col in categorical_columns:\n",
    "    le = LabelEncoder()\n",
    "    X[col] = le.fit_transform(X[col])\n",
    "    label_encoders[col] = le  # Save the encoder for future use\n",
    "\n",
    "# Split the data into training and test sets\n",
    "X_train, X_test, y_train, y_test = train_test_split(X, y, test_size=0.2, random_state=42)\n",
    "\n",
    "# Save the feature names\n",
    "feature_names = X.columns.tolist()\n",
    "\n",
    "# Scale the numeric features\n",
    "scaler = StandardScaler()\n",
    "X_train_scaled = scaler.fit_transform(X_train)\n",
    "X_test_scaled = scaler.transform(X_test)\n",
    "\n",
    "# Train a Logistic Regression model\n",
    "lr_model = LogisticRegression(max_iter=1000, random_state=42, class_weight='balanced')\n",
    "lr_model.fit(X_train_scaled, y_train)\n",
    "\n",
    "# Make predictions\n",
    "y_pred = lr_model.predict(X_test_scaled)\n",
    "\n",
    "# Evaluate the model\n",
    "accuracy = accuracy_score(y_test, y_pred)\n",
    "report = classification_report(y_test, y_pred)\n",
    "\n",
    "# Save the trained model, scaler, feature names, and LabelEncoders\n",
    "joblib.dump(lr_model, \"logistic_regression_model.pkl\")\n",
    "joblib.dump(scaler, \"scaler.pkl\")\n",
    "joblib.dump(feature_names, \"feature_names.pkl\")\n",
    "joblib.dump(label_encoders, \"label_encoders.pkl\")\n",
    "\n",
    "accuracy, report\n"
   ]
  },
  {
   "cell_type": "code",
   "execution_count": 3,
   "metadata": {},
   "outputs": [
    {
     "name": "stdout",
     "output_type": "stream",
     "text": [
      "[[0.97994671 0.02005329]\n",
      " [0.99505991 0.00494009]\n",
      " [0.83427846 0.16572154]\n",
      " [0.80370869 0.19629131]\n",
      " [0.94346636 0.05653364]]\n"
     ]
    }
   ],
   "source": [
    "# Inspect raw prediction probabilities of the Logistic Regression model\n",
    "raw_probabilities = lr_model.predict_proba(X_test_scaled)\n",
    "\n",
    "# Display probabilities for the first 5 samples\n",
    "print(raw_probabilities[:5])\n"
   ]
  },
  {
   "cell_type": "code",
   "execution_count": 10,
   "metadata": {},
   "outputs": [
    {
     "name": "stdout",
     "output_type": "stream",
     "text": [
      "Sample Predictions: [0 0 0 0 0]\n",
      "Sample Probabilities: [[0.97994671 0.02005329]\n",
      " [0.99505991 0.00494009]\n",
      " [0.83427846 0.16572154]\n",
      " [0.80370869 0.19629131]\n",
      " [0.94346636 0.05653364]]\n"
     ]
    }
   ],
   "source": [
    "# Test the model on training or test data\n",
    "sample_scaled = scaler.transform(X_test.iloc[:5])  # Use a few samples\n",
    "sample_predictions = lr_model.predict(sample_scaled)\n",
    "sample_probabilities = lr_model.predict_proba(sample_scaled)\n",
    "\n",
    "print(\"Sample Predictions:\", sample_predictions)\n",
    "print(\"Sample Probabilities:\", sample_probabilities)\n"
   ]
  },
  {
   "cell_type": "code",
   "execution_count": 13,
   "metadata": {},
   "outputs": [
    {
     "name": "stdout",
     "output_type": "stream",
     "text": [
      "Class distribution in the training data:\n",
      "0    0.857021\n",
      "1    0.142979\n",
      "Name: loan_status, dtype: float64\n"
     ]
    }
   ],
   "source": [
    "print(\"Class distribution in the training data:\")\n",
    "print(y_train.value_counts(normalize=True))\n"
   ]
  },
  {
   "cell_type": "code",
   "execution_count": 15,
   "metadata": {},
   "outputs": [
    {
     "data": {
      "text/plain": [
       "{'Feature Names': ['person_age',\n",
       "  'person_income',\n",
       "  'person_home_ownership',\n",
       "  'person_emp_length',\n",
       "  'loan_intent',\n",
       "  'loan_grade',\n",
       "  'loan_amnt',\n",
       "  'loan_int_rate',\n",
       "  'loan_percent_income',\n",
       "  'cb_person_default_on_file',\n",
       "  'cb_person_cred_hist_length'],\n",
       " 'Label Encoders': {'person_home_ownership': ['MORTGAGE',\n",
       "   'OTHER',\n",
       "   'OWN',\n",
       "   'RENT'],\n",
       "  'loan_intent': ['DEBTCONSOLIDATION',\n",
       "   'EDUCATION',\n",
       "   'HOMEIMPROVEMENT',\n",
       "   'MEDICAL',\n",
       "   'PERSONAL',\n",
       "   'VENTURE'],\n",
       "  'loan_grade': ['A', 'B', 'C', 'D', 'E', 'F', 'G'],\n",
       "  'cb_person_default_on_file': ['N', 'Y']},\n",
       " 'Scaler': StandardScaler(),\n",
       " 'Model Type': sklearn.linear_model._logistic.LogisticRegression}"
      ]
     },
     "execution_count": 15,
     "metadata": {},
     "output_type": "execute_result"
    }
   ],
   "source": [
    "# Load the provided model files to inspect and verify their contents\n",
    "import joblib\n",
    "\n",
    "# Define file paths\n",
    "feature_names_path = \"D:/AIT582/Final Project/FlaskLoan/models/feature_names.pkl\"\n",
    "label_encoders_path = \"D:/AIT582/Final Project/FlaskLoan/models/label_encoders.pkl\"\n",
    "logistic_regression_model_path = \"D:/AIT582/Final Project/FlaskLoan/models/logistic_regression_model.pkl\"\n",
    "scaler_path = \"D:/AIT582/Final Project/FlaskLoan/models/scaler.pkl\"\n",
    "\n",
    "# Load the files\n",
    "feature_names = joblib.load(feature_names_path)\n",
    "label_encoders = joblib.load(label_encoders_path)\n",
    "logistic_regression_model = joblib.load(logistic_regression_model_path)\n",
    "scaler = joblib.load(scaler_path)\n",
    "\n",
    "# Inspect the loaded data\n",
    "{\n",
    "    \"Feature Names\": feature_names,\n",
    "    \"Label Encoders\": {key: list(le.classes_) for key, le in label_encoders.items()},\n",
    "    \"Scaler\": scaler,\n",
    "    \"Model Type\": type(logistic_regression_model)\n",
    "}\n"
   ]
  }
 ],
 "metadata": {
  "kernelspec": {
   "display_name": "base",
   "language": "python",
   "name": "python3"
  },
  "language_info": {
   "codemirror_mode": {
    "name": "ipython",
    "version": 3
   },
   "file_extension": ".py",
   "mimetype": "text/x-python",
   "name": "python",
   "nbconvert_exporter": "python",
   "pygments_lexer": "ipython3",
   "version": "3.11.4"
  }
 },
 "nbformat": 4,
 "nbformat_minor": 2
}
